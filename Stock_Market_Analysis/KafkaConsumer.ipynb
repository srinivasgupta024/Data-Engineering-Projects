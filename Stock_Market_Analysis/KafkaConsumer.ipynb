{
 "cells": [
  {
   "cell_type": "code",
   "execution_count": 2,
   "id": "866a876a-69c5-4d38-8996-e4678089db53",
   "metadata": {},
   "outputs": [],
   "source": [
    "from kafka import KafkaConsumer\n",
    "from time import sleep\n",
    "from json import dumps,loads\n",
    "import json\n",
    "from s3fs import S3FileSystem"
   ]
  },
  {
   "cell_type": "code",
   "execution_count": null,
   "id": "acfb6bea-c7a4-49f2-8352-451a703130c4",
   "metadata": {},
   "outputs": [],
   "source": [
    "# (demo-testing2) is the topic created in EC2(kafka)\n",
    "# Used Public IP of EC2 (13.203.103.195)\n",
    "# Sends data to S3 --- CONNECTION\n",
    "\n",
    "consumer = KafkaConsumer(\n",
    "    'demo_testing2',\n",
    "     bootstrap_servers=['13.203.103.195:9092'], #add your IP here\n",
    "    value_deserializer=lambda x: loads(x.decode('utf-8')))"
   ]
  },
  {
   "cell_type": "code",
   "execution_count": 4,
   "id": "928e873f-29a1-400f-94ee-febb62a98002",
   "metadata": {},
   "outputs": [],
   "source": [
    "# for c in consumer:\n",
    "#     print(c.value)"
   ]
  },
  {
   "cell_type": "code",
   "execution_count": 14,
   "id": "6e6faa43-c806-482e-ab52-6732f1594bbe",
   "metadata": {},
   "outputs": [],
   "source": [
    "#Object Creation\n",
    "\n",
    "s3 = S3FileSystem()"
   ]
  },
  {
   "cell_type": "code",
   "execution_count": null,
   "id": "0c24abbd-bf3e-4eb0-af84-5c5565244826",
   "metadata": {},
   "outputs": [],
   "source": [
    "for count, i in enumerate(consumer):\n",
    "    with s3.open(\"s3://kafka-stock-market-proj/stock_market_{}.json\".format(count), 'w') as file:\n",
    "        json.dump(i.value, file)   "
   ]
  }
 ],
 "metadata": {
  "kernelspec": {
   "display_name": "Python 3 (ipykernel)",
   "language": "python",
   "name": "python3"
  },
  "language_info": {
   "codemirror_mode": {
    "name": "ipython",
    "version": 3
   },
   "file_extension": ".py",
   "mimetype": "text/x-python",
   "name": "python",
   "nbconvert_exporter": "python",
   "pygments_lexer": "ipython3",
   "version": "3.12.7"
  }
 },
 "nbformat": 4,
 "nbformat_minor": 5
}
